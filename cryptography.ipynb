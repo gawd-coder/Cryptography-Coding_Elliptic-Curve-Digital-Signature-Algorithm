{
  "nbformat": 4,
  "nbformat_minor": 0,
  "metadata": {
    "colab": {
      "name": "cryptography.ipynb",
      "provenance": [],
      "collapsed_sections": []
    },
    "kernelspec": {
      "name": "python3",
      "display_name": "Python 3"
    },
    "language_info": {
      "name": "python"
    }
  },
  "cells": [
    {
      "cell_type": "code",
      "metadata": {
        "colab": {
          "base_uri": "https://localhost:8080/"
        },
        "id": "ik6FYOu1LEGM",
        "outputId": "d4ccba50-d726-48fa-bbf9-12b4684035f5"
      },
      "source": [
        "!sudo apt-get install libgmp-dev"
      ],
      "execution_count": 3,
      "outputs": [
        {
          "output_type": "stream",
          "name": "stdout",
          "text": [
            "Reading package lists... Done\n",
            "Building dependency tree       \n",
            "Reading state information... Done\n",
            "The following additional packages will be installed:\n",
            "  libgmpxx4ldbl\n",
            "Suggested packages:\n",
            "  gmp-doc libgmp10-doc libmpfr-dev\n",
            "The following NEW packages will be installed:\n",
            "  libgmp-dev libgmpxx4ldbl\n",
            "0 upgraded, 2 newly installed, 0 to remove and 37 not upgraded.\n",
            "Need to get 325 kB of archives.\n",
            "After this operation, 1,667 kB of additional disk space will be used.\n",
            "Get:1 http://archive.ubuntu.com/ubuntu bionic/main amd64 libgmpxx4ldbl amd64 2:6.1.2+dfsg-2 [8,964 B]\n",
            "Get:2 http://archive.ubuntu.com/ubuntu bionic/main amd64 libgmp-dev amd64 2:6.1.2+dfsg-2 [316 kB]\n",
            "Fetched 325 kB in 1s (599 kB/s)\n",
            "debconf: unable to initialize frontend: Dialog\n",
            "debconf: (No usable dialog-like program is installed, so the dialog based frontend cannot be used. at /usr/share/perl5/Debconf/FrontEnd/Dialog.pm line 76, <> line 2.)\n",
            "debconf: falling back to frontend: Readline\n",
            "debconf: unable to initialize frontend: Readline\n",
            "debconf: (This frontend requires a controlling tty.)\n",
            "debconf: falling back to frontend: Teletype\n",
            "dpkg-preconfigure: unable to re-open stdin: \n",
            "Selecting previously unselected package libgmpxx4ldbl:amd64.\n",
            "(Reading database ... 155013 files and directories currently installed.)\n",
            "Preparing to unpack .../libgmpxx4ldbl_2%3a6.1.2+dfsg-2_amd64.deb ...\n",
            "Unpacking libgmpxx4ldbl:amd64 (2:6.1.2+dfsg-2) ...\n",
            "Selecting previously unselected package libgmp-dev:amd64.\n",
            "Preparing to unpack .../libgmp-dev_2%3a6.1.2+dfsg-2_amd64.deb ...\n",
            "Unpacking libgmp-dev:amd64 (2:6.1.2+dfsg-2) ...\n",
            "Setting up libgmpxx4ldbl:amd64 (2:6.1.2+dfsg-2) ...\n",
            "Setting up libgmp-dev:amd64 (2:6.1.2+dfsg-2) ...\n",
            "Processing triggers for libc-bin (2.27-3ubuntu1.3) ...\n",
            "/sbin/ldconfig.real: /usr/local/lib/python3.7/dist-packages/ideep4py/lib/libmkldnn.so.0 is not a symbolic link\n",
            "\n"
          ]
        }
      ]
    },
    {
      "cell_type": "code",
      "metadata": {
        "colab": {
          "base_uri": "https://localhost:8080/"
        },
        "id": "CYNuLaKtLgGV",
        "outputId": "d3adb236-1858-4810-a546-15667c994781"
      },
      "source": [
        "!pip3 install fastecdsa"
      ],
      "execution_count": 4,
      "outputs": [
        {
          "output_type": "stream",
          "name": "stdout",
          "text": [
            "Collecting fastecdsa\n",
            "  Using cached fastecdsa-2.2.1.tar.gz (49 kB)\n",
            "Building wheels for collected packages: fastecdsa\n",
            "  Building wheel for fastecdsa (setup.py) ... \u001b[?25l\u001b[?25hdone\n",
            "  Created wheel for fastecdsa: filename=fastecdsa-2.2.1-cp37-cp37m-linux_x86_64.whl size=94254 sha256=f6ae134ca60f442c930cd5d455abeec6c64c8dea8280006bc009ff2644c6cd08\n",
            "  Stored in directory: /root/.cache/pip/wheels/34/08/17/d01a870a8b27121aabd77ee6bfba3de802e82265fade58d486\n",
            "Successfully built fastecdsa\n",
            "Installing collected packages: fastecdsa\n",
            "Successfully installed fastecdsa-2.2.1\n"
          ]
        }
      ]
    },
    {
      "cell_type": "code",
      "metadata": {
        "id": "6PhEHyqeLkX6"
      },
      "source": [
        "# Generating keys using maths of elliptic curve, The class curve contains many different elliptic curves, from which you can choose one to generate your keys on. \n",
        "# The class ecdsa is used later to generate and verify signatures.\n",
        "\n",
        "from fastecdsa import keys, curve, ecdsa\n",
        "priv_key, pub_key = keys.gen_keypair(curve.P256)"
      ],
      "execution_count": 10,
      "outputs": []
    },
    {
      "cell_type": "code",
      "metadata": {
        "colab": {
          "base_uri": "https://localhost:8080/"
        },
        "id": "d4IrXf-iNE3X",
        "outputId": "b060d1a5-01de-4d83-e340-74f98e4b9c54"
      },
      "source": [
        "# Public key is a set of coordinates on the curve P256\n",
        "\n",
        "print(\"Public Key: {} \\nPrivate Key: {}\".format(pub_key, priv_key))"
      ],
      "execution_count": 11,
      "outputs": [
        {
          "output_type": "stream",
          "name": "stdout",
          "text": [
            "Public Key: X: 0x3260ebd47ce65cce32c7ffd47298975c9b73a1aa7c0cd1f158f4ab3a47d96d17\n",
            "Y: 0x4e5a610fc004572b0cc3322197a79b4f99316b4dc08fc9507f866561970236ae\n",
            "(On curve <P256>) \n",
            "Private Key: 46139898457597398360037515909192111570300618268053290566514973037266713712100\n"
          ]
        }
      ]
    },
    {
      "cell_type": "code",
      "metadata": {
        "colab": {
          "base_uri": "https://localhost:8080/"
        },
        "id": "aOAW52nRNUo5",
        "outputId": "c316cc66-9258-4fb9-e177-18af763f4174"
      },
      "source": [
        "# generating signature for messages now\n",
        "\n",
        "message = 'Silence > Words'\n",
        "(r, s) = ecdsa.sign(message, priv_key)\n",
        "print(r, s)"
      ],
      "execution_count": 13,
      "outputs": [
        {
          "output_type": "stream",
          "name": "stdout",
          "text": [
            "57790237640168356220804691562108136956609735095322562435051940306447248690527 114816412297878426331419421207790619613336845301185669603630819288241658387877\n"
          ]
        }
      ]
    },
    {
      "cell_type": "code",
      "metadata": {
        "colab": {
          "base_uri": "https://localhost:8080/"
        },
        "id": "_-va3VzjPE53",
        "outputId": "3b5ae1cb-ac12-4536-8ab1-cc0a5433ae61"
      },
      "source": [
        "# Verifying the signature\n",
        "\n",
        "valid = ecdsa.verify((r, s), message, pub_key)\n",
        "print(valid)"
      ],
      "execution_count": 14,
      "outputs": [
        {
          "output_type": "stream",
          "name": "stdout",
          "text": [
            "True\n"
          ]
        }
      ]
    }
  ]
}